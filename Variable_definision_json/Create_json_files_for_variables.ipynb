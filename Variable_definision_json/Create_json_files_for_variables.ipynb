{
 "cells": [
  {
   "cell_type": "code",
   "execution_count": 1,
   "id": "520cfdcf",
   "metadata": {},
   "outputs": [],
   "source": [
    "#import librarie for analysis\n",
    "import pandas as pd\n",
    "import numpy as np\n",
    "import matplotlib.pyplot as plt\n",
    "import seaborn as sns\n",
    "%matplotlib inline"
   ]
  },
  {
   "cell_type": "code",
   "execution_count": 6,
   "id": "94b12d30",
   "metadata": {},
   "outputs": [],
   "source": [
    "# read data\n",
    "path = r\"C:\\Users\\user\\Desktop\\DATA_SCIENCE\\HamoyeInternship\\StageC_premier\\UK_Traffic_Accidents_2015.csv\"\n",
    "path = open(r\"C:\\Users\\user\\Desktop\\DATA_SCIENCE\\HamoyeInternship\\StageC_premier\\UK_Traffic_Accidents_2015.csv\",)\n",
    "df = pd.read_csv(path,low_memory= False)"
   ]
  },
  {
   "cell_type": "code",
   "execution_count": 7,
   "id": "eaabc60d",
   "metadata": {},
   "outputs": [
    {
     "data": {
      "text/html": [
       "<div>\n",
       "<style scoped>\n",
       "    .dataframe tbody tr th:only-of-type {\n",
       "        vertical-align: middle;\n",
       "    }\n",
       "\n",
       "    .dataframe tbody tr th {\n",
       "        vertical-align: top;\n",
       "    }\n",
       "\n",
       "    .dataframe thead th {\n",
       "        text-align: right;\n",
       "    }\n",
       "</style>\n",
       "<table border=\"1\" class=\"dataframe\">\n",
       "  <thead>\n",
       "    <tr style=\"text-align: right;\">\n",
       "      <th></th>\n",
       "      <th>Accident_Index</th>\n",
       "      <th>Location_Easting_OSGR</th>\n",
       "      <th>Location_Northing_OSGR</th>\n",
       "      <th>Longitude</th>\n",
       "      <th>Latitude</th>\n",
       "      <th>Police_Force</th>\n",
       "      <th>Accident_Severity</th>\n",
       "      <th>Number_of_Vehicles</th>\n",
       "      <th>Number_of_Casualties</th>\n",
       "      <th>Date</th>\n",
       "      <th>...</th>\n",
       "      <th>Pedestrian_Crossing-Human_Control</th>\n",
       "      <th>Pedestrian_Crossing-Physical_Facilities</th>\n",
       "      <th>Light_Conditions</th>\n",
       "      <th>Weather_Conditions</th>\n",
       "      <th>Road_Surface_Conditions</th>\n",
       "      <th>Special_Conditions_at_Site</th>\n",
       "      <th>Carriageway_Hazards</th>\n",
       "      <th>Urban_or_Rural_Area</th>\n",
       "      <th>Did_Police_Officer_Attend_Scene_of_Accident</th>\n",
       "      <th>LSOA_of_Accident_Location</th>\n",
       "    </tr>\n",
       "  </thead>\n",
       "  <tbody>\n",
       "    <tr>\n",
       "      <th>0</th>\n",
       "      <td>201501BS70001</td>\n",
       "      <td>525130.0</td>\n",
       "      <td>180050.0</td>\n",
       "      <td>-0.198465</td>\n",
       "      <td>51.505538</td>\n",
       "      <td>1</td>\n",
       "      <td>3</td>\n",
       "      <td>1</td>\n",
       "      <td>1</td>\n",
       "      <td>12/01/2015</td>\n",
       "      <td>...</td>\n",
       "      <td>0</td>\n",
       "      <td>0</td>\n",
       "      <td>4</td>\n",
       "      <td>1</td>\n",
       "      <td>1</td>\n",
       "      <td>0</td>\n",
       "      <td>0</td>\n",
       "      <td>1</td>\n",
       "      <td>1</td>\n",
       "      <td>E01002825</td>\n",
       "    </tr>\n",
       "    <tr>\n",
       "      <th>1</th>\n",
       "      <td>201501BS70002</td>\n",
       "      <td>526530.0</td>\n",
       "      <td>178560.0</td>\n",
       "      <td>-0.178838</td>\n",
       "      <td>51.491836</td>\n",
       "      <td>1</td>\n",
       "      <td>3</td>\n",
       "      <td>1</td>\n",
       "      <td>1</td>\n",
       "      <td>12/01/2015</td>\n",
       "      <td>...</td>\n",
       "      <td>0</td>\n",
       "      <td>0</td>\n",
       "      <td>1</td>\n",
       "      <td>1</td>\n",
       "      <td>1</td>\n",
       "      <td>0</td>\n",
       "      <td>0</td>\n",
       "      <td>1</td>\n",
       "      <td>1</td>\n",
       "      <td>E01002820</td>\n",
       "    </tr>\n",
       "    <tr>\n",
       "      <th>2</th>\n",
       "      <td>201501BS70004</td>\n",
       "      <td>524610.0</td>\n",
       "      <td>181080.0</td>\n",
       "      <td>-0.205590</td>\n",
       "      <td>51.514910</td>\n",
       "      <td>1</td>\n",
       "      <td>3</td>\n",
       "      <td>1</td>\n",
       "      <td>1</td>\n",
       "      <td>12/01/2015</td>\n",
       "      <td>...</td>\n",
       "      <td>0</td>\n",
       "      <td>1</td>\n",
       "      <td>4</td>\n",
       "      <td>2</td>\n",
       "      <td>2</td>\n",
       "      <td>0</td>\n",
       "      <td>0</td>\n",
       "      <td>1</td>\n",
       "      <td>1</td>\n",
       "      <td>E01002833</td>\n",
       "    </tr>\n",
       "    <tr>\n",
       "      <th>3</th>\n",
       "      <td>201501BS70005</td>\n",
       "      <td>524420.0</td>\n",
       "      <td>181080.0</td>\n",
       "      <td>-0.208327</td>\n",
       "      <td>51.514952</td>\n",
       "      <td>1</td>\n",
       "      <td>3</td>\n",
       "      <td>1</td>\n",
       "      <td>1</td>\n",
       "      <td>13/01/2015</td>\n",
       "      <td>...</td>\n",
       "      <td>0</td>\n",
       "      <td>0</td>\n",
       "      <td>1</td>\n",
       "      <td>1</td>\n",
       "      <td>2</td>\n",
       "      <td>0</td>\n",
       "      <td>0</td>\n",
       "      <td>1</td>\n",
       "      <td>2</td>\n",
       "      <td>E01002874</td>\n",
       "    </tr>\n",
       "    <tr>\n",
       "      <th>4</th>\n",
       "      <td>201501BS70008</td>\n",
       "      <td>524630.0</td>\n",
       "      <td>179040.0</td>\n",
       "      <td>-0.206022</td>\n",
       "      <td>51.496572</td>\n",
       "      <td>1</td>\n",
       "      <td>2</td>\n",
       "      <td>2</td>\n",
       "      <td>1</td>\n",
       "      <td>09/01/2015</td>\n",
       "      <td>...</td>\n",
       "      <td>0</td>\n",
       "      <td>5</td>\n",
       "      <td>1</td>\n",
       "      <td>2</td>\n",
       "      <td>2</td>\n",
       "      <td>0</td>\n",
       "      <td>0</td>\n",
       "      <td>1</td>\n",
       "      <td>2</td>\n",
       "      <td>E01002814</td>\n",
       "    </tr>\n",
       "  </tbody>\n",
       "</table>\n",
       "<p>5 rows × 32 columns</p>\n",
       "</div>"
      ],
      "text/plain": [
       "  Accident_Index  Location_Easting_OSGR  Location_Northing_OSGR  Longitude  \\\n",
       "0  201501BS70001               525130.0                180050.0  -0.198465   \n",
       "1  201501BS70002               526530.0                178560.0  -0.178838   \n",
       "2  201501BS70004               524610.0                181080.0  -0.205590   \n",
       "3  201501BS70005               524420.0                181080.0  -0.208327   \n",
       "4  201501BS70008               524630.0                179040.0  -0.206022   \n",
       "\n",
       "    Latitude  Police_Force  Accident_Severity  Number_of_Vehicles  \\\n",
       "0  51.505538             1                  3                   1   \n",
       "1  51.491836             1                  3                   1   \n",
       "2  51.514910             1                  3                   1   \n",
       "3  51.514952             1                  3                   1   \n",
       "4  51.496572             1                  2                   2   \n",
       "\n",
       "   Number_of_Casualties        Date  ...  Pedestrian_Crossing-Human_Control  \\\n",
       "0                     1  12/01/2015  ...                                  0   \n",
       "1                     1  12/01/2015  ...                                  0   \n",
       "2                     1  12/01/2015  ...                                  0   \n",
       "3                     1  13/01/2015  ...                                  0   \n",
       "4                     1  09/01/2015  ...                                  0   \n",
       "\n",
       "  Pedestrian_Crossing-Physical_Facilities  Light_Conditions  \\\n",
       "0                                       0                 4   \n",
       "1                                       0                 1   \n",
       "2                                       1                 4   \n",
       "3                                       0                 1   \n",
       "4                                       5                 1   \n",
       "\n",
       "  Weather_Conditions  Road_Surface_Conditions  Special_Conditions_at_Site  \\\n",
       "0                  1                        1                           0   \n",
       "1                  1                        1                           0   \n",
       "2                  2                        2                           0   \n",
       "3                  1                        2                           0   \n",
       "4                  2                        2                           0   \n",
       "\n",
       "   Carriageway_Hazards  Urban_or_Rural_Area  \\\n",
       "0                    0                    1   \n",
       "1                    0                    1   \n",
       "2                    0                    1   \n",
       "3                    0                    1   \n",
       "4                    0                    1   \n",
       "\n",
       "   Did_Police_Officer_Attend_Scene_of_Accident  LSOA_of_Accident_Location  \n",
       "0                                            1                  E01002825  \n",
       "1                                            1                  E01002820  \n",
       "2                                            1                  E01002833  \n",
       "3                                            2                  E01002874  \n",
       "4                                            2                  E01002814  \n",
       "\n",
       "[5 rows x 32 columns]"
      ]
     },
     "execution_count": 7,
     "metadata": {},
     "output_type": "execute_result"
    }
   ],
   "source": [
    "df.head()"
   ]
  },
  {
   "cell_type": "code",
   "execution_count": 8,
   "id": "d2600c8c",
   "metadata": {},
   "outputs": [
    {
     "data": {
      "text/plain": [
       "Index(['Accident_Index', 'Location_Easting_OSGR', 'Location_Northing_OSGR',\n",
       "       'Longitude', 'Latitude', 'Police_Force', 'Accident_Severity',\n",
       "       'Number_of_Vehicles', 'Number_of_Casualties', 'Date', 'Day_of_Week',\n",
       "       'Time', 'Local_Authority_(District)', 'Local_Authority_(Highway)',\n",
       "       '1st_Road_Class', '1st_Road_Number', 'Road_Type', 'Speed_limit',\n",
       "       'Junction_Detail', 'Junction_Control', '2nd_Road_Class',\n",
       "       '2nd_Road_Number', 'Pedestrian_Crossing-Human_Control',\n",
       "       'Pedestrian_Crossing-Physical_Facilities', 'Light_Conditions',\n",
       "       'Weather_Conditions', 'Road_Surface_Conditions',\n",
       "       'Special_Conditions_at_Site', 'Carriageway_Hazards',\n",
       "       'Urban_or_Rural_Area', 'Did_Police_Officer_Attend_Scene_of_Accident',\n",
       "       'LSOA_of_Accident_Location'],\n",
       "      dtype='object')"
      ]
     },
     "execution_count": 8,
     "metadata": {},
     "output_type": "execute_result"
    }
   ],
   "source": [
    "df.columns"
   ]
  },
  {
   "cell_type": "code",
   "execution_count": 26,
   "id": "8e0725b4",
   "metadata": {},
   "outputs": [
    {
     "data": {
      "text/plain": [
       "1"
      ]
     },
     "execution_count": 26,
     "metadata": {},
     "output_type": "execute_result"
    }
   ],
   "source": [
    "Day_of_Week = {\"Day_of_week\":{\"Sunday\":1,\"Monday\":2,\"Tuesday\":3,\"wednesday\":4,\"Thursday\":5,\"Friday\":6,\"Saturday\":7}}\n",
    "Day_of_Week[\"Day_of_week\"][\"Sunday\"]"
   ]
  },
  {
   "cell_type": "code",
   "execution_count": 27,
   "id": "98858536",
   "metadata": {},
   "outputs": [],
   "source": [
    "all_dic ={}\n",
    "all_dic.update(Day_of_Week)\n"
   ]
  },
  {
   "cell_type": "code",
   "execution_count": 28,
   "id": "f4d74e74",
   "metadata": {},
   "outputs": [],
   "source": [
    "first_road_class = {\"first_road_class\":{\"Motoway\":1,\"A(M)\":2,\"A\":3,\"B\":4,\"C\":5,\"Unknown\":6}}\n",
    "all_dic.update(first_road_class)"
   ]
  },
  {
   "cell_type": "code",
   "execution_count": 29,
   "id": "631fd7b9",
   "metadata": {},
   "outputs": [
    {
     "data": {
      "text/plain": [
       "{'Day_of_week': {'Sunday': 1,\n",
       "  'Monday': 2,\n",
       "  'Tuesday': 3,\n",
       "  'wednesday': 4,\n",
       "  'Thursday': 5,\n",
       "  'Friday': 6,\n",
       "  'Saturday': 7},\n",
       " 'first_road_class': {'Motoway': 1,\n",
       "  'A(M)': 2,\n",
       "  'A': 3,\n",
       "  'B': 4,\n",
       "  'C': 5,\n",
       "  'Unknown': 6}}"
      ]
     },
     "execution_count": 29,
     "metadata": {},
     "output_type": "execute_result"
    }
   ],
   "source": [
    "all_dic"
   ]
  },
  {
   "cell_type": "code",
   "execution_count": 33,
   "id": "a5ebd1a6",
   "metadata": {},
   "outputs": [
    {
     "data": {
      "text/plain": [
       "3"
      ]
     },
     "execution_count": 33,
     "metadata": {},
     "output_type": "execute_result"
    }
   ],
   "source": [
    "road_type = {\"Road_type\":{\"Roundabout\":1,\"One way street\":2,\"Dual Carriageway\":3,\"Single Carriage way\":6,\"Split road\":7,\"Unknown\":7\n",
    "                         }}\n",
    "road_type[\"Road_type\"][\"Dual Carriageway\"]"
   ]
  },
  {
   "cell_type": "code",
   "execution_count": 34,
   "id": "3fede667",
   "metadata": {},
   "outputs": [],
   "source": [
    "all_dic.update(road_type)"
   ]
  },
  {
   "cell_type": "code",
   "execution_count": 35,
   "id": "0ad1a8c8",
   "metadata": {},
   "outputs": [
    {
     "data": {
      "text/plain": [
       "{'Day_of_week': {'Sunday': 1,\n",
       "  'Monday': 2,\n",
       "  'Tuesday': 3,\n",
       "  'wednesday': 4,\n",
       "  'Thursday': 5,\n",
       "  'Friday': 6,\n",
       "  'Saturday': 7},\n",
       " 'first_road_class': {'Motoway': 1,\n",
       "  'A(M)': 2,\n",
       "  'A': 3,\n",
       "  'B': 4,\n",
       "  'C': 5,\n",
       "  'Unknown': 6},\n",
       " 'Road_type': {'Roundabout': 1,\n",
       "  'One way street': 2,\n",
       "  'Dual Carriageway': 3,\n",
       "  'Single Carriage way': 6,\n",
       "  'Split road': 7,\n",
       "  'Unknown': 7}}"
      ]
     },
     "execution_count": 35,
     "metadata": {},
     "output_type": "execute_result"
    }
   ],
   "source": [
    "all_dic"
   ]
  },
  {
   "cell_type": "code",
   "execution_count": 36,
   "id": "597edc87",
   "metadata": {},
   "outputs": [],
   "source": [
    "junction_detail = {\"junction_detail\":{\"Not a junction\":0,\"Roundabout\":1,\"Mini-roundabout\":2,\"T or Staggered junction\":3,\"Slip road\":5\n",
    "                                      ,\"Crossroads\":6,\"More than 4 arms(not roundabout)\":7,\"Other junction\":9,\"Unknown\":-1}}\n",
    "all_dic.update(junction_detail)"
   ]
  },
  {
   "cell_type": "code",
   "execution_count": 37,
   "id": "c2f7972f",
   "metadata": {},
   "outputs": [
    {
     "data": {
      "text/plain": [
       "{'Day_of_week': {'Sunday': 1,\n",
       "  'Monday': 2,\n",
       "  'Tuesday': 3,\n",
       "  'wednesday': 4,\n",
       "  'Thursday': 5,\n",
       "  'Friday': 6,\n",
       "  'Saturday': 7},\n",
       " 'first_road_class': {'Motoway': 1,\n",
       "  'A(M)': 2,\n",
       "  'A': 3,\n",
       "  'B': 4,\n",
       "  'C': 5,\n",
       "  'Unknown': 6},\n",
       " 'Road_type': {'Roundabout': 1,\n",
       "  'One way street': 2,\n",
       "  'Dual Carriageway': 3,\n",
       "  'Single Carriage way': 6,\n",
       "  'Split road': 7,\n",
       "  'Unknown': 7},\n",
       " 'junction_detail': {'Not a junction': 0,\n",
       "  'Roundabout': 1,\n",
       "  'Mini-roundabout': 2,\n",
       "  'T or Staggered junction': 3,\n",
       "  'Slip road': 5,\n",
       "  'Crossroads': 6,\n",
       "  'More than 4 arms(not roundabout)': 7,\n",
       "  'Other junction': 9,\n",
       "  'Unknown': -1}}"
      ]
     },
     "execution_count": 37,
     "metadata": {},
     "output_type": "execute_result"
    }
   ],
   "source": [
    "all_dic"
   ]
  },
  {
   "cell_type": "code",
   "execution_count": 38,
   "id": "878c7533",
   "metadata": {},
   "outputs": [],
   "source": [
    "junction_Control = {\"junction_control\":{\"Authorised person\":1,\"Auto traffic signal\":2,\"Stop sign\":3,\"Give way or Uncontrolled\":4,\"Unknown\":-1}}"
   ]
  },
  {
   "cell_type": "code",
   "execution_count": 40,
   "id": "828fdabd",
   "metadata": {},
   "outputs": [],
   "source": [
    "all_dic.update(junction_Control)"
   ]
  },
  {
   "cell_type": "code",
   "execution_count": 41,
   "id": "1cac96f9",
   "metadata": {},
   "outputs": [
    {
     "data": {
      "text/plain": [
       "{'Day_of_week': {'Sunday': 1,\n",
       "  'Monday': 2,\n",
       "  'Tuesday': 3,\n",
       "  'wednesday': 4,\n",
       "  'Thursday': 5,\n",
       "  'Friday': 6,\n",
       "  'Saturday': 7},\n",
       " 'first_road_class': {'Motoway': 1,\n",
       "  'A(M)': 2,\n",
       "  'A': 3,\n",
       "  'B': 4,\n",
       "  'C': 5,\n",
       "  'Unknown': 6},\n",
       " 'Road_type': {'Roundabout': 1,\n",
       "  'One way street': 2,\n",
       "  'Dual Carriageway': 3,\n",
       "  'Single Carriage way': 6,\n",
       "  'Split road': 7,\n",
       "  'Unknown': 7},\n",
       " 'junction_detail': {'Not a junction': 0,\n",
       "  'Roundabout': 1,\n",
       "  'Mini-roundabout': 2,\n",
       "  'T or Staggered junction': 3,\n",
       "  'Slip road': 5,\n",
       "  'Crossroads': 6,\n",
       "  'More than 4 arms(not roundabout)': 7,\n",
       "  'Other junction': 9,\n",
       "  'Unknown': -1},\n",
       " 'junction_control': {'Authorised person': 1,\n",
       "  'Auto traffic signal': 2,\n",
       "  'Stop sign': 3,\n",
       "  'Give way or Uncontrolled': 4,\n",
       "  'Unknown': -1}}"
      ]
     },
     "execution_count": 41,
     "metadata": {},
     "output_type": "execute_result"
    }
   ],
   "source": [
    "all_dic"
   ]
  },
  {
   "cell_type": "code",
   "execution_count": null,
   "id": "1e86c8d1",
   "metadata": {},
   "outputs": [],
   "source": []
  }
 ],
 "metadata": {
  "kernelspec": {
   "display_name": "Python 3 (ipykernel)",
   "language": "python",
   "name": "python3"
  },
  "language_info": {
   "codemirror_mode": {
    "name": "ipython",
    "version": 3
   },
   "file_extension": ".py",
   "mimetype": "text/x-python",
   "name": "python",
   "nbconvert_exporter": "python",
   "pygments_lexer": "ipython3",
   "version": "3.10.4"
  }
 },
 "nbformat": 4,
 "nbformat_minor": 5
}
